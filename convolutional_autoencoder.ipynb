{
 "cells": [
  {
   "cell_type": "code",
   "execution_count": 1,
   "metadata": {},
   "outputs": [],
   "source": [
    "%matplotlib notebook"
   ]
  },
  {
   "cell_type": "markdown",
   "metadata": {},
   "source": [
    "# Learning a simple non-linear, noisy function... with convolutions!\n",
    "\n",
    "Using our standard dataset."
   ]
  },
  {
   "cell_type": "code",
   "execution_count": 2,
   "metadata": {},
   "outputs": [
    {
     "name": "stderr",
     "output_type": "stream",
     "text": [
      "/usr/local/lib/python3.5/dist-packages/h5py/__init__.py:36: FutureWarning: Conversion of the second argument of issubdtype from `float` to `np.floating` is deprecated. In future, it will be treated as `np.float64 == np.dtype(float).type`.\n",
      "  from ._conv import register_converters as _register_converters\n"
     ]
    },
    {
     "data": {
      "text/plain": [
       "<Figure size 640x480 with 1 Axes>"
      ]
     },
     "metadata": {},
     "output_type": "display_data"
    }
   ],
   "source": [
    "import numpy as np\n",
    "import tensorflow as tf\n",
    "import matplotlib.pyplot as plt\n",
    "\n",
    "N = 1000 # observations|\n",
    "P = 10000 # samples\n",
    "epochs = 100\n",
    "batch_size = 100\n",
    "\n",
    "domain = np.linspace(0, 2.*np.pi, P)\n",
    "Y = np.sin(domain)\n",
    "amin = np.amin(Y)\n",
    "amax = np.amax(Y)\n",
    "Y = (Y - amin) / (amax - amin) \n",
    "X = np.array([Y + np.random.normal(size=P, scale=0.1) for _ in range(N)])\n",
    "\n",
    "plt.figure()\n",
    "\n",
    "for x in X[0:10, :]:\n",
    "    plt.scatter(domain, x, color='b', alpha=0.1, s=1)\n",
    "plt.scatter(domain, Y, color='r', s=1)\n",
    "plt.show()"
   ]
  },
  {
   "cell_type": "markdown",
   "metadata": {},
   "source": [
    "## Specify Model"
   ]
  },
  {
   "cell_type": "code",
   "execution_count": 6,
   "metadata": {},
   "outputs": [
    {
     "name": "stdout",
     "output_type": "stream",
     "text": [
      "Encoder conv layer shapes:\n",
      "[100, 10000, 1]\n",
      "[100, 3334, 64]\n",
      "[100, 1112, 32]\n",
      "[100, 370, 16]\n",
      "Decoder conv layer shapes:\n",
      "[100, 370]\n",
      "[100, 1111, 32]\n",
      "[100, 3333, 64]\n",
      "[100, 10000, 1]\n"
     ]
    }
   ],
   "source": [
    "graph = tf.get_default_graph()\n",
    "with graph.as_default():\n",
    "        \n",
    "    dataset = tf.data.Dataset.from_tensor_slices(X)\n",
    "    dataset = dataset.repeat(epochs)\n",
    "    dataset = dataset.batch(batch_size)\n",
    "    \n",
    "    iterator = dataset.make_initializable_iterator()\n",
    "    data = iterator.get_next()\n",
    "    \n",
    "    # encoder\n",
    "    x = tf.reshape(data, [batch_size, P, 1])\n",
    "        \n",
    "    print('Encoder conv layer shapes:')\n",
    "    print(x.get_shape().as_list())\n",
    "    x = tf.layers.conv1d(x, 64, 3, strides=3, padding='SAME')\n",
    "    x = tf.nn.elu(x)\n",
    "    print(x.get_shape().as_list())\n",
    "    x = tf.layers.conv1d(x, 32, 3, strides=3, padding='SAME')\n",
    "    x = tf.nn.elu(x)\n",
    "    print(x.get_shape().as_list())\n",
    "    x = tf.layers.conv1d(x, 16, 3, strides=3, padding='VALID')\n",
    "    x = tf.nn.elu(x)\n",
    "    print(x.get_shape().as_list())\n",
    "\n",
    "    # drop channel dimension\n",
    "    x = tf.reshape(x, [batch_size, -1])\n",
    "    \n",
    "    latent_code = tf.layers.dense(x, 16, activation=None)\n",
    "\n",
    "    # decoder\n",
    "    x = tf.layers.dense(latent_code, 370)\n",
    "        \n",
    "    print('Decoder conv layer shapes:')\n",
    "    print(x.get_shape().as_list())\n",
    "    x = tf.reshape(x, [batch_size, 1, 370, 1])\n",
    "    x = tf.layers.conv2d_transpose(x, filters=32, kernel_size=(1, 3),\n",
    "        strides=(1, 3), padding='SAME')\n",
    "    x = tf.nn.elu(x)\n",
    "    x = tf.squeeze(x, [1])\n",
    "    padding = tf.constant([[0, 0], [1, 0], [0, 0]])\n",
    "    x = tf.pad(x, padding)\n",
    "    print(x.get_shape().as_list())\n",
    "\n",
    "\n",
    "    x = tf.expand_dims(x, axis=1)\n",
    "    x = tf.layers.conv2d_transpose(x, filters=64, kernel_size=(1, 3),\n",
    "        strides=(1, 3), padding='SAME')\n",
    "    x = tf.nn.elu(x)\n",
    "    x = tf.squeeze(x, [1])\n",
    "    print(x.get_shape().as_list())\n",
    "    \n",
    "    x = tf.expand_dims(x, axis=1)\n",
    "    x = tf.layers.conv2d_transpose(x, filters=1, kernel_size=(1, 3),\n",
    "        strides=(1, 3), padding='SAME')\n",
    "    x = tf.nn.elu(x)\n",
    "    x = tf.squeeze(x, [1])\n",
    "    x = tf.pad(x, padding)\n",
    "    print(x.get_shape().as_list())\n",
    "\n",
    "    x_hat = tf.reshape(x, [batch_size, -1])\n",
    "    \n",
    "    loss = tf.losses.mean_squared_error(data, x_hat)\n",
    "    \n",
    "    optimizer = tf.train.AdamOptimizer()\n",
    "    train_op = optimizer.minimize(loss=loss)"
   ]
  },
  {
   "cell_type": "markdown",
   "metadata": {},
   "source": [
    "## Train"
   ]
  },
  {
   "cell_type": "code",
   "execution_count": 7,
   "metadata": {},
   "outputs": [
    {
     "name": "stdout",
     "output_type": "stream",
     "text": [
      "Running epoch 0\n",
      "Running epoch 1\n",
      "Running epoch 2\n",
      "Running epoch 3\n",
      "Running epoch 4\n",
      "Running epoch 5\n",
      "Running epoch 6\n",
      "Running epoch 7\n",
      "Running epoch 8\n",
      "Running epoch 9\n",
      "Running epoch 10\n",
      "Running epoch 11\n",
      "Running epoch 12\n",
      "Running epoch 13\n",
      "Running epoch 14\n",
      "Running epoch 15\n",
      "Running epoch 16\n",
      "Running epoch 17\n",
      "Running epoch 18\n",
      "Running epoch 19\n",
      "Running epoch 20\n",
      "Running epoch 21\n",
      "Running epoch 22\n",
      "Running epoch 23\n",
      "Running epoch 24\n",
      "Running epoch 25\n",
      "Running epoch 26\n",
      "Running epoch 27\n",
      "Running epoch 28\n",
      "Running epoch 29\n",
      "Running epoch 30\n",
      "Running epoch 31\n",
      "Running epoch 32\n",
      "Running epoch 33\n",
      "Running epoch 34\n",
      "Running epoch 35\n",
      "Running epoch 36\n",
      "Running epoch 37\n",
      "Running epoch 38\n",
      "Running epoch 39\n",
      "Running epoch 40\n",
      "Running epoch 41\n",
      "Running epoch 42\n",
      "Running epoch 43\n",
      "Running epoch 44\n",
      "Running epoch 45\n",
      "Running epoch 46\n",
      "Running epoch 47\n",
      "Running epoch 48\n",
      "Running epoch 49\n",
      "Running epoch 50\n",
      "Running epoch 51\n",
      "Running epoch 52\n",
      "Running epoch 53\n",
      "Running epoch 54\n",
      "Running epoch 55\n",
      "Running epoch 56\n",
      "Running epoch 57\n",
      "Running epoch 58\n",
      "Running epoch 59\n",
      "Running epoch 60\n",
      "Running epoch 61\n",
      "Running epoch 62\n",
      "Running epoch 63\n",
      "Running epoch 64\n",
      "Running epoch 65\n",
      "Running epoch 66\n",
      "Running epoch 67\n",
      "Running epoch 68\n",
      "Running epoch 69\n",
      "Running epoch 70\n",
      "Running epoch 71\n",
      "Running epoch 72\n",
      "Running epoch 73\n",
      "Running epoch 74\n",
      "Running epoch 75\n",
      "Running epoch 76\n",
      "Running epoch 77\n",
      "Running epoch 78\n",
      "Running epoch 79\n",
      "Running epoch 80\n",
      "Running epoch 81\n",
      "Running epoch 82\n",
      "Running epoch 83\n",
      "Running epoch 84\n",
      "Running epoch 85\n",
      "Running epoch 86\n",
      "Running epoch 87\n",
      "Running epoch 88\n",
      "Running epoch 89\n",
      "Running epoch 90\n",
      "Running epoch 91\n",
      "Running epoch 92\n",
      "Running epoch 93\n",
      "Running epoch 94\n",
      "Running epoch 95\n",
      "Running epoch 96\n",
      "Running epoch 97\n",
      "Running epoch 98\n",
      "Running epoch 99\n"
     ]
    }
   ],
   "source": [
    "loss_log = list()\n",
    "\n",
    "with tf.Session() as sess:\n",
    "    sess.run(tf.global_variables_initializer())\n",
    "\n",
    "    for epoch in range(epochs):\n",
    "        print('Running epoch {}'.format(epoch))\n",
    "        sess.run(iterator.initializer)\n",
    "        sess.run(train_op)\n",
    "        loss_log.append(sess.run(loss))\n",
    "\n",
    "    x_hat = sess.run(x_hat)"
   ]
  },
  {
   "cell_type": "markdown",
   "metadata": {},
   "source": [
    "## Metrics"
   ]
  },
  {
   "cell_type": "code",
   "execution_count": 10,
   "metadata": {},
   "outputs": [
    {
     "data": {
      "image/png": "[encoded data removed]",
      "text/plain": [
       "<Figure size 432x288 with 2 Axes>"
      ]
     },
     "metadata": {},
     "output_type": "display_data"
    }
   ],
   "source": [
    "plt.figure()\n",
    "plt.subplot(1, 2, 1)\n",
    "plt.plot(loss_log)\n",
    "plt.ylabel('MSE')\n",
    "\n",
    "plt.subplot(1, 2, 2)\n",
    "plt.scatter(domain, np.mean(x_hat, axis=0), alpha=0.1, s=1)\n",
    "# plt.scatter(domain, x_hat[0,], alpha=0.1, s=1)\n",
    "plt.scatter(domain, Y, color='r', s=0.001)\n",
    "\n",
    "plt.show()"
   ]
  }
 ],
 "metadata": {
  "kernelspec": {
   "display_name": "Python 3",
   "language": "python",
   "name": "python3"
  },
  "language_info": {
   "codemirror_mode": {
    "name": "ipython",
    "version": 3
   },
   "file_extension": ".py",
   "mimetype": "text/x-python",
   "name": "python",
   "nbconvert_exporter": "python",
   "pygments_lexer": "ipython3",
   "version": "3.5.2"
  }
 },
 "nbformat": 4,
 "nbformat_minor": 2
}
