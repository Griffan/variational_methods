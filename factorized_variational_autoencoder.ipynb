{
 "cells": [
  {
   "cell_type": "markdown",
   "metadata": {},
   "source": [
    "# Factorized Variational Autoencoder\n",
    "\n",
    "Following the model specified in the Disney Research paper \"Factorized Variational Autoencoders for\n",
    "Modeling Audience Reactions to Movies\"\n",
    "\n",
    "## Testing with toy data\n",
    "We begin by testing with a toy dataset taken from the Edward examples:\n",
    "https://github.com/blei-lab/edward/blob/master/examples/probabilistic_matrix_factorization.py\n"
   ]
  },
  {
   "cell_type": "code",
   "execution_count": 15,
   "metadata": {},
   "outputs": [],
   "source": [
    "import tensorflow as tf\n",
    "import tensorflow_probability as tfp\n",
    "import numpy as np\n",
    "\n",
    "tfd = tf.contrib.distributions\n",
    "\n",
    "N = 1000\n",
    "M = 10000\n",
    "D = 3\n",
    "sigma = 0.1\n",
    "batch_size = 100\n",
    "\n",
    "U_true = np.random.randn(D, N)\n",
    "V_true = np.random.randn(D, M)\n",
    "\n",
    "X = np.dot(np.transpose(U_true), V_true) + np.random.normal(0, sigma, size=(N, M))\n",
    "X = X.astype(np.float32)"
   ]
  },
  {
   "cell_type": "code",
   "execution_count": 20,
   "metadata": {},
   "outputs": [],
   "source": [
    "def make_encoder(x, z_dim):\n",
    "    x = tf.layers.dense(inputs=x,\n",
    "            units=512, activation=tf.nn.relu)\n",
    "    x = tf.layers.dense(inputs=x,\n",
    "            units=256, activation=tf.nn.relu)\n",
    "    x = tf.layers.dense(inputs=x,\n",
    "            units=128, activation=tf.nn.relu)\n",
    "    encoder_net = tf.layers.dense(inputs=x,\n",
    "                      units = z_dim * 2,\n",
    "                      activation=None)\n",
    "    \n",
    "    \n",
    "    \n",
    "    loc = encoder_net[..., :z_dim]\n",
    "    scale = tf.nn.softplus(encoder_net[..., z_dim:] + 0.5)\n",
    "\n",
    "    return tfd.MultivariateNormalDiag(loc=loc,\n",
    "            scale_diag=scale,\n",
    "            name='encoder_distribution')\n",
    "    \n",
    "\n",
    "def make_decoder(z, num_features, z_dim):\n",
    "    \n",
    "    z = tf.reshape(z, [-1, batch_size, z_dim])\n",
    "    x = tf.layers.dense(inputs=latent_code,\n",
    "            units=128, activation=tf.nn.relu)\n",
    "    x = tf.layers.dense(inputs=x,\n",
    "             units=256, activation=tf.nn.relu)\n",
    "    x = tf.layers.dense(inputs=x,\n",
    "            units=512, activation=tf.nn.relu)\n",
    "    \n",
    "    decoder_net = tf.layers.dense(inputs=x,\n",
    "            units=num_features, activation=None)\n",
    "    \n",
    "    data_dist = tfd.MultivariateNormalDiag(loc=decoder_net,\n",
    "                            name='decoder_distribution')\n",
    "        \n",
    "    return data_dist\n",
    "\n",
    "\n",
    "def make_V_prior(z_dim):\n",
    "    mvn =  tfd.MultivariateNormalDiag(scale_diag=tf.ones(z_dim),\n",
    "                                    name='V_prior_distribution')\n",
    "    return mvn\n",
    "\n",
    "def make_U_prior(z_dim):\n",
    "    mvn =  tfd.MultivariateNormalDiag(scale_diag=tf.ones(z_dim))\n",
    "    mvln = tfd.TransformedDistribution(distribution=mvn,\n",
    "                                       bijector=tfd.bijectors.Exp(),\n",
    "                                       name='U_prior_distribution')\n",
    "    return mvln\n"
   ]
  },
  {
   "cell_type": "code",
   "execution_count": 22,
   "metadata": {},
   "outputs": [
    {
     "name": "stdout",
     "output_type": "stream",
     "text": [
      "WARNING:tensorflow:From /usr/local/lib/python3.5/dist-packages/tensorflow_probability/python/monte_carlo.py:163: calling reduce_mean (from tensorflow.python.ops.math_ops) with keep_dims is deprecated and will be removed in a future version.\n",
      "Instructions for updating:\n",
      "keep_dims is deprecated, use keepdims instead\n"
     ]
    }
   ],
   "source": [
    "graph = tf.Graph()\n",
    "with graph.as_default():\n",
    "    # input pipeline\n",
    "    dataset = tf.data.Dataset.from_tensor_slices(X)\n",
    "    dataset = dataset.batch(batch_size)\n",
    "    iterator = dataset.make_initializable_iterator()\n",
    "    data = iterator.get_next()\n",
    "    \n",
    "    # inference network; encoder\n",
    "    with tf.variable_scope('encoder'):\n",
    "        encoder = make_encoder(data, z_dim=D)\n",
    "    \n",
    "    # replace this with element-wise product of U and V samples\n",
    "    z = encoder.sample()\n",
    "\n",
    "    # priors\n",
    "    with tf.variable_scope('priors'):\n",
    "        U_prior = make_U_prior(z_dim=D)\n",
    "        V_prior = make_V_prior(z_dim=D)\n",
    "        \n",
    "        \n",
    "    # loss\n",
    "    def joint_log_prob(z):\n",
    "        with tf.variable_scope('decoder'):\n",
    "            decoder = make_decoder(z, z_dim=D, num_features=M)\n",
    "        return decoder.log_prob(data) + U_prior.log_prob() + V_prior.log_prob(z)\n",
    "    \n",
    "    loss = tf.reduce_sum(\n",
    "            tfp.vi.monte_carlo_csiszar_f_divergence(\n",
    "                f=tfp.vi.kl_reverse,\n",
    "                p_log_prob=joint_log_prob,\n",
    "                q=encoder,\n",
    "                num_draws=1))\n",
    "    \n",
    "    \n",
    "    # optimizer\n",
    "    optimizer = tf.train.AdamOptimizer(0.001).minimize(loss)"
   ]
  },
  {
   "cell_type": "code",
   "execution_count": null,
   "metadata": {},
   "outputs": [],
   "source": []
  }
 ],
 "metadata": {
  "kernelspec": {
   "display_name": "Python 3",
   "language": "python",
   "name": "python3"
  },
  "language_info": {
   "codemirror_mode": {
    "name": "ipython",
    "version": 3
   },
   "file_extension": ".py",
   "mimetype": "text/x-python",
   "name": "python",
   "nbconvert_exporter": "python",
   "pygments_lexer": "ipython3",
   "version": "3.5.2"
  }
 },
 "nbformat": 4,
 "nbformat_minor": 2
}
